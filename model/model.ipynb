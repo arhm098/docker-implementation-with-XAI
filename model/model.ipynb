{
 "cells": [
  {
   "cell_type": "code",
   "execution_count": 1,
   "metadata": {},
   "outputs": [],
   "source": [
    "#loading libraries\n",
    "import pandas as pd\n",
    "import numpy as np\n",
    "import seaborn as sns\n",
    "import matplotlib.pyplot as plt\n",
    "from sklearn.model_selection import train_test_split\n",
    "from sklearn.metrics import accuracy_score \n",
    "from sklearn.preprocessing import OrdinalEncoder\n",
    "from sklearn.tree import DecisionTreeClassifier\n",
    "from sklearn.ensemble import GradientBoostingClassifier\n",
    "from sklearn.neighbors import KNeighborsClassifier\n",
    "from pandas import DataFrame\n",
    "import joblib"
   ]
  },
  {
   "cell_type": "code",
   "execution_count": 2,
   "metadata": {},
   "outputs": [],
   "source": [
    "#https://www.kaggle.com/code/danhoang/loan-default-prediction-using-ann-keras helped me choose the right values from the above 50 columns :D thanks to this guy, gave me alot of pointers on the data\n",
    "df = pd.read_csv('data/accepted.csv',low_memory=False)\n",
    "df = df[['loan_amnt','term','int_rate','installment','grade','sub_grade','emp_title','emp_length',\n",
    "        'home_ownership','annual_inc','verification_status','issue_d','loan_status','purpose',\n",
    "        'title','dti','earliest_cr_line','open_acc','pub_rec','revol_bal','revol_util',\n",
    "        'total_acc','initial_list_status','application_type','mort_acc','pub_rec_bankruptcies']]\n",
    "\n",
    "df = df[(df['loan_status']=='Fully Paid') | (df['loan_status']=='Charged Off')]\n",
    "df = df.iloc[:,0:5000]"
   ]
  },
  {
   "cell_type": "code",
   "execution_count": 26,
   "metadata": {},
   "outputs": [
    {
     "data": {
      "text/plain": [
       "19.06308972340904"
      ]
     },
     "execution_count": 26,
     "metadata": {},
     "output_type": "execute_result"
    }
   ],
   "source": [
    "df['dti'].mean()"
   ]
  },
  {
   "cell_type": "code",
   "execution_count": 20,
   "metadata": {},
   "outputs": [
    {
     "name": "stdout",
     "output_type": "stream",
     "text": [
      "<class 'pandas.core.frame.DataFrame'>\n",
      "Int64Index: 4447 entries, 0 to 4992\n",
      "Data columns (total 17 columns):\n",
      " #   Column                Non-Null Count  Dtype  \n",
      "---  ------                --------------  -----  \n",
      " 0   loan_amnt             4447 non-null   int64  \n",
      " 1   term                  4447 non-null   int64  \n",
      " 2   int_rate              4447 non-null   float64\n",
      " 3   installment           4447 non-null   float64\n",
      " 4   sub_grade             4447 non-null   int64  \n",
      " 5   emp_length            4447 non-null   int64  \n",
      " 6   annual_inc            4447 non-null   float64\n",
      " 7   loan_status           4447 non-null   int64  \n",
      " 8   dti                   4447 non-null   float64\n",
      " 9   earliest_cr_line      4447 non-null   int64  \n",
      " 10  open_acc              4447 non-null   int64  \n",
      " 11  pub_rec               4447 non-null   int64  \n",
      " 12  revol_bal             4447 non-null   int64  \n",
      " 13  revol_util            4447 non-null   float64\n",
      " 14  total_acc             4447 non-null   int64  \n",
      " 15  mort_acc              4447 non-null   int64  \n",
      " 16  pub_rec_bankruptcies  4447 non-null   int64  \n",
      "dtypes: float64(5), int64(12)\n",
      "memory usage: 625.4 KB\n"
     ]
    }
   ],
   "source": [
    "#checking length of dataframe to make sure all the slicing was succeful\n",
    "df.info()"
   ]
  },
  {
   "cell_type": "code",
   "execution_count": 4,
   "metadata": {},
   "outputs": [],
   "source": [
    "#converting the possible Y table to 1s and 0zeros \n",
    "Y_loan_status = df[\"loan_status\"].to_list()\n",
    "Y_loan_status_new = []\n",
    "for i in Y_loan_status:\n",
    "    if i == \"Fully Paid\":\n",
    "        Y_loan_status_new.append(1)\n",
    "    else:\n",
    "        Y_loan_status_new.append(0)\n",
    "df.drop(['loan_status'],axis='columns')\n",
    "df['loan_status'] = Y_loan_status_new\n"
   ]
  },
  {
   "cell_type": "code",
   "execution_count": 5,
   "metadata": {},
   "outputs": [],
   "source": [
    "#we have to do the same thing to terms tab\n",
    "term_to_list = df[\"term\"].to_list()\n",
    "term_to_list_new = []\n",
    "for i in term_to_list:\n",
    "    if i == ' 36 months':\n",
    "        term_to_list_new.append(36)\n",
    "    else:\n",
    "        term_to_list_new.append(60)\n",
    "df['term'] = term_to_list_new\n"
   ]
  },
  {
   "cell_type": "code",
   "execution_count": 6,
   "metadata": {},
   "outputs": [],
   "source": [
    "#now to time for emp_length emp_length            \n",
    "emp_length = df[\"emp_length\"].to_list()\n",
    "emp_length_new = []\n",
    "for i in emp_length:\n",
    "    if i == '10+ years':\n",
    "        emp_length_new.append(10)\n",
    "    elif  i == '< 1 year':\n",
    "        emp_length_new.append(1)\n",
    "    elif str(i) == 'nan':\n",
    "        emp_length_new.append(0)\n",
    "    else:\n",
    "        emp_length_new.append(int(str(i)[0]))\n",
    "\n",
    "\n",
    "df['emp_length'] = emp_length_new\n"
   ]
  },
  {
   "cell_type": "code",
   "execution_count": null,
   "metadata": {},
   "outputs": [],
   "source": [
    "print(df[\"emp_length\"][0:10])"
   ]
  },
  {
   "cell_type": "code",
   "execution_count": null,
   "metadata": {},
   "outputs": [],
   "source": [
    "#now we need to check null values, we dealt with some in emp_length but lets see the whole picture\n",
    "df.isnull().sum()\n",
    "#running the following codes we can see the data is ready to put into the model now"
   ]
  },
  {
   "cell_type": "code",
   "execution_count": 9,
   "metadata": {},
   "outputs": [],
   "source": [
    "#lets remove EMP_title and grade, we dont need emp_title as there is too many variations of it to convert it to numeric data and grade is a simpler copy of grade\n",
    "df['title'].value_counts()\n",
    "df['title'].nunique()\n",
    "#there is way too many variations in strings to convert this to int so we can remove this too\n",
    "df = df.drop(['grade','emp_title','title'],axis = 1)"
   ]
  },
  {
   "cell_type": "code",
   "execution_count": 10,
   "metadata": {},
   "outputs": [],
   "source": [
    "#idk why its showing nulls in mort_acc\n",
    "#its just go through the data and feed it again as int\n",
    "def isfloat(num):\n",
    "    try:\n",
    "        float(num)\n",
    "        return True\n",
    "    except ValueError:\n",
    "        return False\n",
    "\n",
    "mort_acc = df[\"mort_acc\"].to_list()\n",
    "mort_acc_new = []\n",
    "for i in mort_acc:\n",
    "    if isfloat(i):\n",
    "        try:\n",
    "            mort_acc_new.append(int(i)+1)\n",
    "        except:\n",
    "            mort_acc_new.append(1)\n",
    "    else:\n",
    "        mort_acc_new.append(1)\n",
    "df['mort_acc'] = mort_acc_new\n"
   ]
  },
  {
   "cell_type": "code",
   "execution_count": null,
   "metadata": {},
   "outputs": [],
   "source": [
    "#we we can see the strong relatives between variables like installment and loan amount\n",
    "plt.figure(figsize=(12,7))\n",
    "sns.heatmap(df.corr(), annot=True, cmap='Blues')\n",
    "plt.tight_layout()"
   ]
  },
  {
   "cell_type": "code",
   "execution_count": 12,
   "metadata": {},
   "outputs": [],
   "source": [
    "#found a shorter way to do it other than converting it to list and adding it to the dataframe again we can just do everything in the same line\n",
    "#thanks to the guy who did work on this dataset helped me alot\n",
    "df['earliest_cr_line'] = df['earliest_cr_line'].apply(lambda x: int(x.split(\"-\")[-1]))\n"
   ]
  },
  {
   "cell_type": "code",
   "execution_count": 13,
   "metadata": {},
   "outputs": [],
   "source": [
    "#lastly we have grade, or sub grade\n",
    "#converting it to usable data will be tricky\n",
    "#for now before making the model we can convert it and test the model with and without it to check if it helps us or not\n",
    "#VALUES range from A to G,given A is 'good' and g is well 'not good' we can assign numercal aphlas the excisting side values forxample A5 will be 55 and G4 04\n",
    "#lets start\n",
    "sub_grades_list = df['sub_grade'].to_list()\n",
    "sub_grades_list_new = []\n",
    "weights = {'G':0,'F':10,'E':20,'D':30,'C':40,'B':50,'A':60}\n",
    "for i in sub_grades_list:\n",
    "    grade = str(i)\n",
    "    sub_grades_list_new.append(weights[grade[0]]+int(grade[1]))\n",
    "#print(sub_grades_list_new)\n",
    "#it works now lets change the data in the main dataframe\n",
    "df['sub_grade'] = sub_grades_list_new"
   ]
  },
  {
   "cell_type": "code",
   "execution_count": 14,
   "metadata": {},
   "outputs": [],
   "source": [
    "#now we have enough numerical data for the model\n",
    "#lets start with basic nearest neighbour to process the data\n",
    "#first we can drop all the string rows that will not help us in the model\n",
    "#\n",
    "df = df.drop(['home_ownership','verification_status','issue_d','purpose','initial_list_status','application_type'],axis = 1)\n",
    "#finally there is no string data just numeric data for the model"
   ]
  },
  {
   "cell_type": "code",
   "execution_count": 15,
   "metadata": {},
   "outputs": [],
   "source": [
    "#filling null values with zero as it is causing problems in pyspacrk\n",
    "df.fillna(df.mean(), inplace=True)"
   ]
  },
  {
   "cell_type": "code",
   "execution_count": 13,
   "metadata": {},
   "outputs": [],
   "source": [
    "#using pyspark library from the help of https://www.datatechnotes.com/2021/06/pyspark-decision-tree-classification.html\n",
    "# from pyspark import SparkContext\n",
    "# from pyspark.sql import SQLContext\n",
    "# from pyspark.sql import SparkSession\n",
    "# from pyspark.ml.classification import DecisionTreeClassifier\n",
    "# from pyspark.ml.evaluation import MulticlassClassificationEvaluator\n",
    "# from pyspark.ml.feature import VectorAssembler\n",
    "\n",
    "#I CANT FIND ANY LIBRARIES THAT ARE SUPPORTED BY PYSPARK FOR EXPLAINABILITY SO I HAVE TO SKLEARN FOR THE MODEL, THIS IS THE PREVIOUS MODEL\n",
    "\n",
    "# sc = SparkContext().getOrCreate()\n",
    "# sqlContext = SQLContext(sc)\n",
    "\n",
    "# data = sqlContext.createDataFrame(df)\n",
    "# print(data.printSchema()) \n",
    "# va = VectorAssembler(inputCols = ['loan_amnt','term','int_rate','annual_inc','open_acc','earliest_cr_line','dti','mort_acc','pub_rec_bankruptcies','revol_util'], outputCol='features')\n",
    "# #installment and sub grade were reducing accuracy so they were dropped, sub grade changed the accuracy from 72 to 73\n",
    "# # 'pub_rec','revol_bal <- these rows bad too \n",
    "# # 'total_acc' total account not really helping\n",
    "# va_df = va.transform(data)\n",
    "# va_df = va_df.select(['features', 'loan_status'])\n",
    "\n",
    "# (train, test) = va_df.randomSplit([0.8, 0.2])\n",
    "# dtc = DecisionTreeClassifier(featuresCol=\"features\", labelCol=\"loan_status\")\n",
    "# dtc = dtc.fit(train)\n",
    "\n",
    "# pred = dtc.transform(test)\n",
    "# pred = pred.selectExpr( \"features as features\",\"loan_status as label\",\"rawPrediction as rawPrediction\",\"probability as probability\",\"prediction as prediction\")\n",
    "# evaluator=MulticlassClassificationEvaluator(predictionCol=\"prediction\")\n",
    "# acc = evaluator.evaluate(pred)\n",
    " \n",
    "# print(\"Prediction Accuracy: \", acc)\n",
    " \n",
    "# y_pred=pred.select(\"prediction\").collect()\n",
    "# y_orig=pred.select(\"label\").collect()\n",
    "\n",
    "# cm = confusion_matrix(y_orig, y_pred)\n",
    "# print(\"Confusion Matrix:\")\n",
    "# print(cm)\n",
    "#ITS WORKKING but accuracy not great. i can defo try with dropping some useless values and try again\n",
    "#UPDATE changed values and dropped some rows now acc close to 80 cant really go higher than that by changing stuff. so 80% is good\n",
    "\n"
   ]
  },
  {
   "cell_type": "code",
   "execution_count": 16,
   "metadata": {},
   "outputs": [
    {
     "name": "stderr",
     "output_type": "stream",
     "text": [
      "C:\\Users\\muham\\AppData\\Local\\Packages\\PythonSoftwareFoundation.Python.3.10_qbz5n2kfra8p0\\LocalCache\\local-packages\\Python310\\site-packages\\tqdm\\auto.py:22: TqdmWarning: IProgress not found. Please update jupyter and ipywidgets. See https://ipywidgets.readthedocs.io/en/stable/user_install.html\n",
      "  from .autonotebook import tqdm as notebook_tqdm\n"
     ]
    }
   ],
   "source": [
    "import shap\n",
    "import pandas as pd\n",
    "from sklearn.model_selection import train_test_split\n"
   ]
  },
  {
   "cell_type": "code",
   "execution_count": 17,
   "metadata": {},
   "outputs": [
    {
     "name": "stdout",
     "output_type": "stream",
     "text": [
      "1 Train score: 0.8189485521506887 Test score: 0.8101123595505618\n",
      "2 Train score: 0.8189485521506887 Test score: 0.8101123595505618\n",
      "3 Train score: 0.8214787742479618 Test score: 0.8191011235955056\n",
      "4 Train score: 0.8313185268484679 Test score: 0.8168539325842696\n",
      "5 Train score: 0.8375035141973574 Test score: 0.8157303370786517\n",
      "6 Train score: 0.8490300815293786 Test score: 0.8089887640449438\n",
      "7 Train score: 0.8625245993815013 Test score: 0.7921348314606742\n",
      "8 Train score: 0.875737981445038 Test score: 0.7865168539325843\n",
      "9 Train score: 0.8951363508574641 Test score: 0.7674157303370787\n"
     ]
    },
    {
     "data": {
      "text/plain": [
       "<matplotlib.legend.Legend at 0x21421351b10>"
      ]
     },
     "execution_count": 17,
     "metadata": {},
     "output_type": "execute_result"
    },
    {
     "data": {
      "image/png": "[encoded data removed]",
      "text/plain": [
       "<Figure size 432x288 with 1 Axes>"
      ]
     },
     "metadata": {
      "needs_background": "light"
     },
     "output_type": "display_data"
    }
   ],
   "source": [
    "X = df.drop('loan_status',axis = 'columns').values\n",
    "y = df['loan_status'].values\n",
    "X_train, X_test, y_train, y_test = train_test_split(X, y, test_size = 0.2)\n",
    "# Prepares a default instance of the random forest regressor\n",
    "train_acc=[]\n",
    "test_acc=[]\n",
    "list_score=[]\n",
    "p=[]\n",
    "\n",
    "for i in range(1, 10):\n",
    "    \n",
    "    dtc = DecisionTreeClassifier(max_depth = i ,random_state = 0)\n",
    "    dtc.fit(X_train, y_train)\n",
    "\n",
    "    train_pred = dtc.predict(X_train)\n",
    "    #train_acc.append(score(train_pred, yTrain))\n",
    "    \n",
    "    test_pred = dtc.predict(X_test)\n",
    "    #test_acc.append(score(test_pred, yTest))\n",
    "    test_acc = accuracy_score(y_test, test_pred)\n",
    "    train_acc = accuracy_score(y_train, train_pred)\n",
    "    print(i,'Train score:',train_acc,'Test score:',test_acc)\n",
    "\n",
    "    list_score.append([i,accuracy_score(train_pred, y_train),accuracy_score(test_pred, y_test)]) \n",
    "    \n",
    "    \n",
    "df2 = DataFrame (list_score,columns=['Depth','Train Accuracy','Test Accuracy'])\n",
    "plt.plot(df2['Depth'],df2['Test Accuracy'],label='Test Accuracy')\n",
    "plt.plot(df2['Depth'],df2['Train Accuracy'],label='Train Accuracy')\n",
    "plt.xlabel('Depth')\n",
    "plt.ylabel('Accuracy')\n",
    "plt.legend()  \n",
    "#so we can see the best accuracy is at 4 depth of the tree\n",
    "#find this classifier on https://medium.com/@amansangal9/predicting-credit-card-approvals-8409c5280f91\n"
   ]
  },
  {
   "cell_type": "code",
   "execution_count": 18,
   "metadata": {},
   "outputs": [
    {
     "name": "stdout",
     "output_type": "stream",
     "text": [
      "Train score: 0.8313185268484679 Test score: 0.8168539325842696\n"
     ]
    }
   ],
   "source": [
    "dtc = DecisionTreeClassifier(max_depth = 4 ,random_state = 0)\n",
    "dtc.fit(X_train, y_train)\n",
    "\n",
    "train_pred = dtc.predict(X_train)\n",
    "    #train_acc.append(score(train_pred, yTrain))\n",
    "    \n",
    "test_pred = dtc.predict(X_test)\n",
    "    #test_acc.append(score(test_pred, yTest))\n",
    "test_acc = accuracy_score(y_test, test_pred)\n",
    "train_acc = accuracy_score(y_train, train_pred)\n",
    "print('Train score:',train_acc,'Test score:',test_acc)\n",
    "#now we have the model lets use SHAP library to get the needed graphs\n"
   ]
  },
  {
   "cell_type": "code",
   "execution_count": 34,
   "metadata": {},
   "outputs": [],
   "source": [
    "# Fits the explainer\n",
    "explainer = shap.Explainer(dtc.predict, X_test)\n",
    "# Calculates the SHAP values - It takes some time\n",
    "shap_values = explainer(X_test)"
   ]
  },
  {
   "cell_type": "code",
   "execution_count": null,
   "metadata": {},
   "outputs": [],
   "source": [
    "shap.plots.bar(shap_values)"
   ]
  },
  {
   "cell_type": "code",
   "execution_count": null,
   "metadata": {},
   "outputs": [],
   "source": [
    "shap.summary_plot(shap_values)"
   ]
  },
  {
   "cell_type": "code",
   "execution_count": null,
   "metadata": {},
   "outputs": [],
   "source": [
    "shap.summary_plot(shap_values, plot_type='violin')"
   ]
  },
  {
   "cell_type": "code",
   "execution_count": null,
   "metadata": {},
   "outputs": [],
   "source": [
    "shap.plots.waterfall(shap_values[0])"
   ]
  },
  {
   "cell_type": "code",
   "execution_count": 19,
   "metadata": {},
   "outputs": [
    {
     "data": {
      "text/plain": [
       "['finalized_model.sav']"
      ]
     },
     "execution_count": 19,
     "metadata": {},
     "output_type": "execute_result"
    }
   ],
   "source": [
    "filename = 'finalized_model.sav'\n",
    "joblib.dump(dtc, filename)"
   ]
  },
  {
   "cell_type": "code",
   "execution_count": null,
   "metadata": {},
   "outputs": [],
   "source": [
    "df.info()"
   ]
  }
 ],
 "metadata": {
  "kernelspec": {
   "display_name": "Python 3.10.6 64-bit (windows store)",
   "language": "python",
   "name": "python3"
  },
  "language_info": {
   "codemirror_mode": {
    "name": "ipython",
    "version": 3
   },
   "file_extension": ".py",
   "mimetype": "text/x-python",
   "name": "python",
   "nbconvert_exporter": "python",
   "pygments_lexer": "ipython3",
   "version": "3.10.7"
  },
  "orig_nbformat": 4,
  "vscode": {
   "interpreter": {
    "hash": "d62ed14bcfe00e9327ce4c427a2f9f47c404f2673d9388e850d9d086e145f1c8"
   }
  }
 },
 "nbformat": 4,
 "nbformat_minor": 2
}
